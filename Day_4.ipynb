{
 "cells": [
  {
   "cell_type": "code",
   "execution_count": 1,
   "metadata": {},
   "outputs": [
    {
     "name": "stdout",
     "output_type": "stream",
     "text": [
      " the sum of the numbers from 1 to  10 is:  30\n"
     ]
    }
   ],
   "source": [
    "#Write a Python program to calculate the sum of all even numbers between 1 and a given positive integer n\n",
    "n = int(input(\"enter the n value: \"))\n",
    "numbers = 0\n",
    "for i in range(1,n+1):\n",
    "    if(i % 2 == 0):\n",
    "        numbers += i\n",
    "print(\" the sum of the numbers from 1 to \", n, \"is: \", numbers)"
   ]
  },
  {
   "cell_type": "code",
   "execution_count": null,
   "metadata": {},
   "outputs": [],
   "source": []
  }
 ],
 "metadata": {
  "kernelspec": {
   "display_name": "base",
   "language": "python",
   "name": "python3"
  },
  "language_info": {
   "codemirror_mode": {
    "name": "ipython",
    "version": 3
   },
   "file_extension": ".py",
   "mimetype": "text/x-python",
   "name": "python",
   "nbconvert_exporter": "python",
   "pygments_lexer": "ipython3",
   "version": "3.9.12"
  }
 },
 "nbformat": 4,
 "nbformat_minor": 2
}
