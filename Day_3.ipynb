{
 "cells": [
  {
   "cell_type": "code",
   "execution_count": 1,
   "metadata": {},
   "outputs": [
    {
     "name": "stdout",
     "output_type": "stream",
     "text": [
      "20.0\n",
      "GRADE : FAIL\n"
     ]
    }
   ],
   "source": [
    "python=int(input(\"enter the marks of python: \"))\n",
    "java=int(input(\"enter the marks of java: \"))\n",
    "dbms=int(input(\"enter the marks of dbms: \"))\n",
    "average = (python+java+dbms)/3\n",
    "print (average)\n",
    "if (average >= 90):\n",
    "    print(\"GRADE : A\")\n",
    "elif (80 <= average < 89):\n",
    "    print(\"GRADE : B\")\n",
    "elif (70 <= average < 79):\n",
    "    print(\"GRADE : C\")\n",
    "else:\n",
    "    print(\"GRADE : FAIL\")"
   ]
  },
  {
   "cell_type": "code",
   "execution_count": null,
   "metadata": {},
   "outputs": [],
   "source": []
  }
 ],
 "metadata": {
  "kernelspec": {
   "display_name": "base",
   "language": "python",
   "name": "python3"
  },
  "language_info": {
   "codemirror_mode": {
    "name": "ipython",
    "version": 3
   },
   "file_extension": ".py",
   "mimetype": "text/x-python",
   "name": "python",
   "nbconvert_exporter": "python",
   "pygments_lexer": "ipython3",
   "version": "3.9.12"
  }
 },
 "nbformat": 4,
 "nbformat_minor": 2
}
